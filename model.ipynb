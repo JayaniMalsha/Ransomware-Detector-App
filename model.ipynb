{
 "cells": [
  {
   "cell_type": "markdown",
   "id": "35654799",
   "metadata": {},
   "source": [
    "## Importing Libraries\n",
    "\n",
    "\n"
   ]
  },
  {
   "cell_type": "code",
   "execution_count": 1,
   "id": "46a1f73a",
   "metadata": {},
   "outputs": [],
   "source": [
    "import pandas as pd\n",
    "from sklearn.model_selection import train_test_split\n",
    "import warnings\n",
    "from sklearn.ensemble import RandomForestClassifier\n",
    "from sklearn.datasets import make_classification\n",
    "from sklearn.model_selection import train_test_split\n",
    "from sklearn.metrics import classification_report, confusion_matrix\n",
    "import matplotlib.pyplot as plt\n",
    "from mlxtend.plotting import plot_confusion_matrix\n",
    "from sklearn.ensemble import RandomForestClassifier\n",
    "from sklearn.tree import plot_tree\n",
    "import matplotlib.pyplot as plt\n",
    "from sklearn.model_selection import cross_val_score\n",
    "from sklearn.preprocessing import StandardScaler"
   ]
  },
  {
   "cell_type": "markdown",
   "id": "cb010129",
   "metadata": {},
   "source": [
    "## Preprocessing\n"
   ]
  },
  {
   "cell_type": "code",
   "execution_count": 68,
   "id": "5b4c5558",
   "metadata": {},
   "outputs": [],
   "source": [
    "# open the datasets :\n",
    "df = pd.read_csv(\"../data_file.csv\")\n",
    "# delete the useless columns :\n",
    "cols_to_drop = ['FileName','md5Hash']\n",
    "df = df.drop(columns=cols_to_drop)"
   ]
  },
  {
   "cell_type": "code",
   "execution_count": 69,
   "id": "42932e1d",
   "metadata": {},
   "outputs": [],
   "source": [
    "# Handle missing values \n",
    "df = df.dropna()"
   ]
  },
  {
   "cell_type": "code",
   "execution_count": 70,
   "id": "7a24b7a8",
   "metadata": {},
   "outputs": [
    {
     "data": {
      "text/html": [
       "<div>\n",
       "<style scoped>\n",
       "    .dataframe tbody tr th:only-of-type {\n",
       "        vertical-align: middle;\n",
       "    }\n",
       "\n",
       "    .dataframe tbody tr th {\n",
       "        vertical-align: top;\n",
       "    }\n",
       "\n",
       "    .dataframe thead th {\n",
       "        text-align: right;\n",
       "    }\n",
       "</style>\n",
       "<table border=\"1\" class=\"dataframe\">\n",
       "  <thead>\n",
       "    <tr style=\"text-align: right;\">\n",
       "      <th></th>\n",
       "      <th>Machine</th>\n",
       "      <th>DebugSize</th>\n",
       "      <th>DebugRVA</th>\n",
       "      <th>MajorImageVersion</th>\n",
       "      <th>MajorOSVersion</th>\n",
       "      <th>ExportRVA</th>\n",
       "      <th>ExportSize</th>\n",
       "      <th>IatVRA</th>\n",
       "      <th>MajorLinkerVersion</th>\n",
       "      <th>MinorLinkerVersion</th>\n",
       "      <th>NumberOfSections</th>\n",
       "      <th>SizeOfStackReserve</th>\n",
       "      <th>DllCharacteristics</th>\n",
       "      <th>ResourceSize</th>\n",
       "      <th>BitcoinAddresses</th>\n",
       "      <th>Benign</th>\n",
       "    </tr>\n",
       "  </thead>\n",
       "  <tbody>\n",
       "    <tr>\n",
       "      <th>1</th>\n",
       "      <td>4</td>\n",
       "      <td>11</td>\n",
       "      <td>121728</td>\n",
       "      <td>10</td>\n",
       "      <td>10</td>\n",
       "      <td>126576</td>\n",
       "      <td>4930</td>\n",
       "      <td>0</td>\n",
       "      <td>14</td>\n",
       "      <td>10</td>\n",
       "      <td>7</td>\n",
       "      <td>9</td>\n",
       "      <td>16864</td>\n",
       "      <td>1024</td>\n",
       "      <td>0</td>\n",
       "      <td>1</td>\n",
       "    </tr>\n",
       "    <tr>\n",
       "      <th>3</th>\n",
       "      <td>4</td>\n",
       "      <td>11</td>\n",
       "      <td>19904</td>\n",
       "      <td>10</td>\n",
       "      <td>10</td>\n",
       "      <td>21312</td>\n",
       "      <td>252</td>\n",
       "      <td>18160</td>\n",
       "      <td>14</td>\n",
       "      <td>10</td>\n",
       "      <td>5</td>\n",
       "      <td>9</td>\n",
       "      <td>16736</td>\n",
       "      <td>1040</td>\n",
       "      <td>0</td>\n",
       "      <td>1</td>\n",
       "    </tr>\n",
       "    <tr>\n",
       "      <th>4</th>\n",
       "      <td>4</td>\n",
       "      <td>11</td>\n",
       "      <td>97728</td>\n",
       "      <td>10</td>\n",
       "      <td>10</td>\n",
       "      <td>105792</td>\n",
       "      <td>1852</td>\n",
       "      <td>70592</td>\n",
       "      <td>14</td>\n",
       "      <td>10</td>\n",
       "      <td>6</td>\n",
       "      <td>9</td>\n",
       "      <td>16736</td>\n",
       "      <td>1096</td>\n",
       "      <td>0</td>\n",
       "      <td>1</td>\n",
       "    </tr>\n",
       "    <tr>\n",
       "      <th>5</th>\n",
       "      <td>4</td>\n",
       "      <td>11</td>\n",
       "      <td>319776</td>\n",
       "      <td>10</td>\n",
       "      <td>10</td>\n",
       "      <td>374944</td>\n",
       "      <td>9208</td>\n",
       "      <td>312608</td>\n",
       "      <td>14</td>\n",
       "      <td>10</td>\n",
       "      <td>6</td>\n",
       "      <td>9</td>\n",
       "      <td>16736</td>\n",
       "      <td>2072</td>\n",
       "      <td>0</td>\n",
       "      <td>1</td>\n",
       "    </tr>\n",
       "    <tr>\n",
       "      <th>7</th>\n",
       "      <td>4</td>\n",
       "      <td>11</td>\n",
       "      <td>197888</td>\n",
       "      <td>10</td>\n",
       "      <td>10</td>\n",
       "      <td>229024</td>\n",
       "      <td>112</td>\n",
       "      <td>187208</td>\n",
       "      <td>14</td>\n",
       "      <td>10</td>\n",
       "      <td>6</td>\n",
       "      <td>9</td>\n",
       "      <td>16736</td>\n",
       "      <td>1328</td>\n",
       "      <td>0</td>\n",
       "      <td>1</td>\n",
       "    </tr>\n",
       "    <tr>\n",
       "      <th>...</th>\n",
       "      <td>...</td>\n",
       "      <td>...</td>\n",
       "      <td>...</td>\n",
       "      <td>...</td>\n",
       "      <td>...</td>\n",
       "      <td>...</td>\n",
       "      <td>...</td>\n",
       "      <td>...</td>\n",
       "      <td>...</td>\n",
       "      <td>...</td>\n",
       "      <td>...</td>\n",
       "      <td>...</td>\n",
       "      <td>...</td>\n",
       "      <td>...</td>\n",
       "      <td>...</td>\n",
       "      <td>...</td>\n",
       "    </tr>\n",
       "    <tr>\n",
       "      <th>62480</th>\n",
       "      <td>1</td>\n",
       "      <td>0</td>\n",
       "      <td>0</td>\n",
       "      <td>1</td>\n",
       "      <td>4</td>\n",
       "      <td>0</td>\n",
       "      <td>0</td>\n",
       "      <td>4096</td>\n",
       "      <td>6</td>\n",
       "      <td>0</td>\n",
       "      <td>2</td>\n",
       "      <td>12</td>\n",
       "      <td>0</td>\n",
       "      <td>23504</td>\n",
       "      <td>0</td>\n",
       "      <td>0</td>\n",
       "    </tr>\n",
       "    <tr>\n",
       "      <th>62481</th>\n",
       "      <td>1</td>\n",
       "      <td>0</td>\n",
       "      <td>0</td>\n",
       "      <td>7</td>\n",
       "      <td>10</td>\n",
       "      <td>0</td>\n",
       "      <td>0</td>\n",
       "      <td>0</td>\n",
       "      <td>7</td>\n",
       "      <td>0</td>\n",
       "      <td>6</td>\n",
       "      <td>12</td>\n",
       "      <td>0</td>\n",
       "      <td>15704</td>\n",
       "      <td>0</td>\n",
       "      <td>0</td>\n",
       "    </tr>\n",
       "    <tr>\n",
       "      <th>62482</th>\n",
       "      <td>1</td>\n",
       "      <td>0</td>\n",
       "      <td>0</td>\n",
       "      <td>0</td>\n",
       "      <td>4</td>\n",
       "      <td>0</td>\n",
       "      <td>0</td>\n",
       "      <td>404908</td>\n",
       "      <td>2</td>\n",
       "      <td>50</td>\n",
       "      <td>10</td>\n",
       "      <td>12</td>\n",
       "      <td>0</td>\n",
       "      <td>2364</td>\n",
       "      <td>0</td>\n",
       "      <td>0</td>\n",
       "    </tr>\n",
       "    <tr>\n",
       "      <th>62483</th>\n",
       "      <td>1</td>\n",
       "      <td>0</td>\n",
       "      <td>0</td>\n",
       "      <td>0</td>\n",
       "      <td>4</td>\n",
       "      <td>14448</td>\n",
       "      <td>70</td>\n",
       "      <td>4096</td>\n",
       "      <td>8</td>\n",
       "      <td>0</td>\n",
       "      <td>3</td>\n",
       "      <td>12</td>\n",
       "      <td>0</td>\n",
       "      <td>130296</td>\n",
       "      <td>0</td>\n",
       "      <td>0</td>\n",
       "    </tr>\n",
       "    <tr>\n",
       "      <th>62484</th>\n",
       "      <td>1</td>\n",
       "      <td>0</td>\n",
       "      <td>0</td>\n",
       "      <td>0</td>\n",
       "      <td>5</td>\n",
       "      <td>0</td>\n",
       "      <td>0</td>\n",
       "      <td>4096</td>\n",
       "      <td>9</td>\n",
       "      <td>0</td>\n",
       "      <td>5</td>\n",
       "      <td>12</td>\n",
       "      <td>0</td>\n",
       "      <td>6912</td>\n",
       "      <td>0</td>\n",
       "      <td>0</td>\n",
       "    </tr>\n",
       "  </tbody>\n",
       "</table>\n",
       "<p>32256 rows × 16 columns</p>\n",
       "</div>"
      ],
      "text/plain": [
       "       Machine  DebugSize  DebugRVA  MajorImageVersion  MajorOSVersion  \\\n",
       "1            4         11    121728                 10              10   \n",
       "3            4         11     19904                 10              10   \n",
       "4            4         11     97728                 10              10   \n",
       "5            4         11    319776                 10              10   \n",
       "7            4         11    197888                 10              10   \n",
       "...        ...        ...       ...                ...             ...   \n",
       "62480        1          0         0                  1               4   \n",
       "62481        1          0         0                  7              10   \n",
       "62482        1          0         0                  0               4   \n",
       "62483        1          0         0                  0               4   \n",
       "62484        1          0         0                  0               5   \n",
       "\n",
       "       ExportRVA  ExportSize  IatVRA  MajorLinkerVersion  MinorLinkerVersion  \\\n",
       "1         126576        4930       0                  14                  10   \n",
       "3          21312         252   18160                  14                  10   \n",
       "4         105792        1852   70592                  14                  10   \n",
       "5         374944        9208  312608                  14                  10   \n",
       "7         229024         112  187208                  14                  10   \n",
       "...          ...         ...     ...                 ...                 ...   \n",
       "62480          0           0    4096                   6                   0   \n",
       "62481          0           0       0                   7                   0   \n",
       "62482          0           0  404908                   2                  50   \n",
       "62483      14448          70    4096                   8                   0   \n",
       "62484          0           0    4096                   9                   0   \n",
       "\n",
       "       NumberOfSections  SizeOfStackReserve  DllCharacteristics  ResourceSize  \\\n",
       "1                     7                   9               16864          1024   \n",
       "3                     5                   9               16736          1040   \n",
       "4                     6                   9               16736          1096   \n",
       "5                     6                   9               16736          2072   \n",
       "7                     6                   9               16736          1328   \n",
       "...                 ...                 ...                 ...           ...   \n",
       "62480                 2                  12                   0         23504   \n",
       "62481                 6                  12                   0         15704   \n",
       "62482                10                  12                   0          2364   \n",
       "62483                 3                  12                   0        130296   \n",
       "62484                 5                  12                   0          6912   \n",
       "\n",
       "       BitcoinAddresses  Benign  \n",
       "1                     0       1  \n",
       "3                     0       1  \n",
       "4                     0       1  \n",
       "5                     0       1  \n",
       "7                     0       1  \n",
       "...                 ...     ...  \n",
       "62480                 0       0  \n",
       "62481                 0       0  \n",
       "62482                 0       0  \n",
       "62483                 0       0  \n",
       "62484                 0       0  \n",
       "\n",
       "[32256 rows x 16 columns]"
      ]
     },
     "execution_count": 70,
     "metadata": {},
     "output_type": "execute_result"
    }
   ],
   "source": [
    "# replace the value repeated : MD5HASH - DebugSize - MajorOSVersion - BitcoinAddresses - NumberOfSections - SizeOfStackReserve\n",
    "columns = [\"Machine\", \"DebugSize\", \"NumberOfSections\", \"SizeOfStackReserve\",\"MajorOSVersion\", \"BitcoinAddresses\"]\n",
    "for col in columns:\n",
    "    df[col] = df[col].astype('category')\n",
    "    df[col] = df[col].cat.codes\n",
    "    \n",
    "# delete all the duplicated rows :\n",
    "df.drop_duplicates(keep='last')"
   ]
  },
  {
   "cell_type": "code",
   "execution_count": 71,
   "id": "2430317b",
   "metadata": {},
   "outputs": [],
   "source": [
    "# Normalize/Standardize feature\n",
    "scaler = StandardScaler()\n",
    "X = df.iloc[:, 1:-1].values\n",
    "X = scaler.fit_transform(X)\n",
    "\n",
    "# Extract target\n",
    "Y = df.iloc[:, -1].values\n",
    "# save the new datasets into new csv file :\n",
    "df.to_csv(\"df_clear.csv\")"
   ]
  },
  {
   "cell_type": "markdown",
   "id": "eaa9e487",
   "metadata": {},
   "source": [
    "## Visualize Distributions"
   ]
  },
  {
   "cell_type": "markdown",
   "id": "72d9508d",
   "metadata": {},
   "source": [
    " Histograms"
   ]
  },
  {
   "cell_type": "code",
   "execution_count": 72,
   "id": "396e20d8",
   "metadata": {},
   "outputs": [
    {
     "data": {
      "image/png": "[encoded data removed]",
      "text/plain": [
       "<Figure size 1440x1080 with 16 Axes>"
      ]
     },
     "metadata": {
      "needs_background": "light"
     },
     "output_type": "display_data"
    }
   ],
   "source": [
    "# To understand the distribution of each feature.\n",
    "import matplotlib.pyplot as plt\n",
    "\n",
    "df.hist(bins=30, figsize=(20, 15))\n",
    "plt.show()\n"
   ]
  },
  {
   "cell_type": "markdown",
   "id": "2219e422",
   "metadata": {},
   "source": [
    "### Prepare dataset after preprocessing"
   ]
  },
  {
   "cell_type": "code",
   "execution_count": 73,
   "id": "719ee580",
   "metadata": {},
   "outputs": [
    {
     "data": {
      "text/html": [
       "<div>\n",
       "<style scoped>\n",
       "    .dataframe tbody tr th:only-of-type {\n",
       "        vertical-align: middle;\n",
       "    }\n",
       "\n",
       "    .dataframe tbody tr th {\n",
       "        vertical-align: top;\n",
       "    }\n",
       "\n",
       "    .dataframe thead th {\n",
       "        text-align: right;\n",
       "    }\n",
       "</style>\n",
       "<table border=\"1\" class=\"dataframe\">\n",
       "  <thead>\n",
       "    <tr style=\"text-align: right;\">\n",
       "      <th></th>\n",
       "      <th>Unnamed: 0</th>\n",
       "      <th>Machine</th>\n",
       "      <th>DebugSize</th>\n",
       "      <th>DebugRVA</th>\n",
       "      <th>MajorImageVersion</th>\n",
       "      <th>MajorOSVersion</th>\n",
       "      <th>ExportRVA</th>\n",
       "      <th>ExportSize</th>\n",
       "      <th>IatVRA</th>\n",
       "      <th>MajorLinkerVersion</th>\n",
       "      <th>MinorLinkerVersion</th>\n",
       "      <th>NumberOfSections</th>\n",
       "      <th>SizeOfStackReserve</th>\n",
       "      <th>DllCharacteristics</th>\n",
       "      <th>ResourceSize</th>\n",
       "      <th>BitcoinAddresses</th>\n",
       "      <th>Benign</th>\n",
       "    </tr>\n",
       "  </thead>\n",
       "  <tbody>\n",
       "    <tr>\n",
       "      <th>0</th>\n",
       "      <td>0</td>\n",
       "      <td>1</td>\n",
       "      <td>0</td>\n",
       "      <td>0</td>\n",
       "      <td>0</td>\n",
       "      <td>4</td>\n",
       "      <td>0</td>\n",
       "      <td>0</td>\n",
       "      <td>8192</td>\n",
       "      <td>8</td>\n",
       "      <td>0</td>\n",
       "      <td>2</td>\n",
       "      <td>12</td>\n",
       "      <td>34112</td>\n",
       "      <td>672</td>\n",
       "      <td>0</td>\n",
       "      <td>1</td>\n",
       "    </tr>\n",
       "    <tr>\n",
       "      <th>1</th>\n",
       "      <td>1</td>\n",
       "      <td>4</td>\n",
       "      <td>11</td>\n",
       "      <td>121728</td>\n",
       "      <td>10</td>\n",
       "      <td>10</td>\n",
       "      <td>126576</td>\n",
       "      <td>4930</td>\n",
       "      <td>0</td>\n",
       "      <td>14</td>\n",
       "      <td>10</td>\n",
       "      <td>7</td>\n",
       "      <td>9</td>\n",
       "      <td>16864</td>\n",
       "      <td>1024</td>\n",
       "      <td>0</td>\n",
       "      <td>1</td>\n",
       "    </tr>\n",
       "    <tr>\n",
       "      <th>2</th>\n",
       "      <td>2</td>\n",
       "      <td>1</td>\n",
       "      <td>0</td>\n",
       "      <td>0</td>\n",
       "      <td>0</td>\n",
       "      <td>4</td>\n",
       "      <td>0</td>\n",
       "      <td>0</td>\n",
       "      <td>8192</td>\n",
       "      <td>8</td>\n",
       "      <td>0</td>\n",
       "      <td>2</td>\n",
       "      <td>12</td>\n",
       "      <td>34112</td>\n",
       "      <td>672</td>\n",
       "      <td>0</td>\n",
       "      <td>1</td>\n",
       "    </tr>\n",
       "    <tr>\n",
       "      <th>3</th>\n",
       "      <td>3</td>\n",
       "      <td>4</td>\n",
       "      <td>11</td>\n",
       "      <td>19904</td>\n",
       "      <td>10</td>\n",
       "      <td>10</td>\n",
       "      <td>21312</td>\n",
       "      <td>252</td>\n",
       "      <td>18160</td>\n",
       "      <td>14</td>\n",
       "      <td>10</td>\n",
       "      <td>5</td>\n",
       "      <td>9</td>\n",
       "      <td>16736</td>\n",
       "      <td>1040</td>\n",
       "      <td>0</td>\n",
       "      <td>1</td>\n",
       "    </tr>\n",
       "    <tr>\n",
       "      <th>4</th>\n",
       "      <td>4</td>\n",
       "      <td>4</td>\n",
       "      <td>11</td>\n",
       "      <td>97728</td>\n",
       "      <td>10</td>\n",
       "      <td>10</td>\n",
       "      <td>105792</td>\n",
       "      <td>1852</td>\n",
       "      <td>70592</td>\n",
       "      <td>14</td>\n",
       "      <td>10</td>\n",
       "      <td>6</td>\n",
       "      <td>9</td>\n",
       "      <td>16736</td>\n",
       "      <td>1096</td>\n",
       "      <td>0</td>\n",
       "      <td>1</td>\n",
       "    </tr>\n",
       "  </tbody>\n",
       "</table>\n",
       "</div>"
      ],
      "text/plain": [
       "   Unnamed: 0  Machine  DebugSize  DebugRVA  MajorImageVersion  \\\n",
       "0           0        1          0         0                  0   \n",
       "1           1        4         11    121728                 10   \n",
       "2           2        1          0         0                  0   \n",
       "3           3        4         11     19904                 10   \n",
       "4           4        4         11     97728                 10   \n",
       "\n",
       "   MajorOSVersion  ExportRVA  ExportSize  IatVRA  MajorLinkerVersion  \\\n",
       "0               4          0           0    8192                   8   \n",
       "1              10     126576        4930       0                  14   \n",
       "2               4          0           0    8192                   8   \n",
       "3              10      21312         252   18160                  14   \n",
       "4              10     105792        1852   70592                  14   \n",
       "\n",
       "   MinorLinkerVersion  NumberOfSections  SizeOfStackReserve  \\\n",
       "0                   0                 2                  12   \n",
       "1                  10                 7                   9   \n",
       "2                   0                 2                  12   \n",
       "3                  10                 5                   9   \n",
       "4                  10                 6                   9   \n",
       "\n",
       "   DllCharacteristics  ResourceSize  BitcoinAddresses  Benign  \n",
       "0               34112           672                 0       1  \n",
       "1               16864          1024                 0       1  \n",
       "2               34112           672                 0       1  \n",
       "3               16736          1040                 0       1  \n",
       "4               16736          1096                 0       1  "
      ]
     },
     "execution_count": 73,
     "metadata": {},
     "output_type": "execute_result"
    }
   ],
   "source": [
    "df = pd.read_csv(\"df_clear.csv\")\n",
    "df.head()"
   ]
  },
  {
   "cell_type": "code",
   "execution_count": 74,
   "id": "6a82b2be",
   "metadata": {},
   "outputs": [
    {
     "name": "stdout",
     "output_type": "stream",
     "text": [
      "<class 'pandas.core.frame.DataFrame'>\n",
      "RangeIndex: 62485 entries, 0 to 62484\n",
      "Data columns (total 17 columns):\n",
      " #   Column              Non-Null Count  Dtype\n",
      "---  ------              --------------  -----\n",
      " 0   Unnamed: 0          62485 non-null  int64\n",
      " 1   Machine             62485 non-null  int64\n",
      " 2   DebugSize           62485 non-null  int64\n",
      " 3   DebugRVA            62485 non-null  int64\n",
      " 4   MajorImageVersion   62485 non-null  int64\n",
      " 5   MajorOSVersion      62485 non-null  int64\n",
      " 6   ExportRVA           62485 non-null  int64\n",
      " 7   ExportSize          62485 non-null  int64\n",
      " 8   IatVRA              62485 non-null  int64\n",
      " 9   MajorLinkerVersion  62485 non-null  int64\n",
      " 10  MinorLinkerVersion  62485 non-null  int64\n",
      " 11  NumberOfSections    62485 non-null  int64\n",
      " 12  SizeOfStackReserve  62485 non-null  int64\n",
      " 13  DllCharacteristics  62485 non-null  int64\n",
      " 14  ResourceSize        62485 non-null  int64\n",
      " 15  BitcoinAddresses    62485 non-null  int64\n",
      " 16  Benign              62485 non-null  int64\n",
      "dtypes: int64(17)\n",
      "memory usage: 8.1 MB\n"
     ]
    }
   ],
   "source": [
    "# dataframe informations\n",
    "df.info()"
   ]
  },
  {
   "cell_type": "code",
   "execution_count": 75,
   "id": "e2709d63",
   "metadata": {},
   "outputs": [],
   "source": [
    "# Transoform into List :\n",
    "X = df.iloc[:, 1:-1].values\n",
    "Y = df.iloc[:,-1].values"
   ]
  },
  {
   "cell_type": "code",
   "execution_count": 76,
   "id": "aba3a8e0",
   "metadata": {},
   "outputs": [
    {
     "name": "stdout",
     "output_type": "stream",
     "text": [
      "The features (Machine ... Bitcoin@) : \n"
     ]
    },
    {
     "data": {
      "text/plain": [
       "array([[     1,      0,      0, ...,  34112,    672,      0],\n",
       "       [     4,     11, 121728, ...,  16864,   1024,      0],\n",
       "       [     1,      0,      0, ...,  34112,    672,      0],\n",
       "       ...,\n",
       "       [     1,      0,      0, ...,      0,   2364,      0],\n",
       "       [     1,      0,      0, ...,      0, 130296,      0],\n",
       "       [     1,      0,      0, ...,      0,   6912,      0]], dtype=int64)"
      ]
     },
     "execution_count": 76,
     "metadata": {},
     "output_type": "execute_result"
    }
   ],
   "source": [
    "print(\"The features (Machine ... Bitcoin@) : \")\n",
    "X"
   ]
  },
  {
   "cell_type": "code",
   "execution_count": 77,
   "id": "98717db5",
   "metadata": {},
   "outputs": [
    {
     "name": "stdout",
     "output_type": "stream",
     "text": [
      "Target vecteur (Benign) : \n"
     ]
    },
    {
     "data": {
      "text/plain": [
       "array([1, 1, 1, ..., 0, 0, 0], dtype=int64)"
      ]
     },
     "execution_count": 77,
     "metadata": {},
     "output_type": "execute_result"
    }
   ],
   "source": [
    "print(\"Target vecteur (Benign) : \")\n",
    "Y"
   ]
  },
  {
   "cell_type": "markdown",
   "id": "baf40888",
   "metadata": {},
   "source": [
    "#### Random Forest Classifier"
   ]
  },
  {
   "cell_type": "code",
   "execution_count": 78,
   "id": "5b4f7f20",
   "metadata": {},
   "outputs": [
    {
     "name": "stdout",
     "output_type": "stream",
     "text": [
      "Accuracy: 0.97\n"
     ]
    }
   ],
   "source": [
    "# Generate random classification data\n",
    "X, y = make_classification(n_samples=1000, n_features=15, n_classes=2,random_state=0)\n",
    "\n",
    "# Split data into training and testing sets\n",
    "# 20% testing and 80% train\n",
    "X_train, X_test, y_train, y_test = train_test_split(X, y, test_size=0.2, random_state=0)\n",
    "# random state if we split for plusieur fois, ca ne sera pas changer :\n",
    "# 80% of 1 and 20% if re-split maysrach lakhlate\n",
    "\n",
    "# Create a Random Forest Classifier with 100 trees\n",
    "rf = RandomForestClassifier(n_estimators=100,random_state=0)\n",
    "\n",
    "# Fit the Random Forest Classifier to the training data\n",
    "rf.fit(X_train, y_train)\n",
    "\n",
    "# Predict the classes of the testing set\n",
    "y_pred = rf.predict(X_test)\n",
    "\n",
    "# Print the accuracy of the model\n",
    "print(\"Accuracy:\", rf.score(X_test, y_test))"
   ]
  },
  {
   "cell_type": "markdown",
   "id": "3dfd49ba",
   "metadata": {},
   "source": [
    "#### Add a new to test and see the results\n"
   ]
  },
  {
   "cell_type": "code",
   "execution_count": 79,
   "id": "3eeb8637",
   "metadata": {},
   "outputs": [
    {
     "name": "stdout",
     "output_type": "stream",
     "text": [
      "Predicted classes: [1 1]\n"
     ]
    }
   ],
   "source": [
    "# Load new data for prediction\n",
    "X_new = [[1, 1, 0, 0, 6, 2, 0, 8192, 8, 0, 3, 1048576, 34112, 672,0],[3, 0,\t0, 0, 6, 2,\t0, 8192, 8,\t0, 0, 0, 0, 672,0 ]]\n",
    "\n",
    "# Use the model to predict the classes of the new data\n",
    "y_pred = rf.predict(X_new)\n",
    "\n",
    "# Print the predicted classes of the new data\n",
    "print(\"Predicted classes:\", y_pred)"
   ]
  },
  {
   "cell_type": "markdown",
   "id": "d42d90ca",
   "metadata": {},
   "source": [
    "#### Evaluate its performance using different metrics"
   ]
  },
  {
   "cell_type": "code",
   "execution_count": 80,
   "id": "a9ee0083",
   "metadata": {},
   "outputs": [
    {
     "name": "stdout",
     "output_type": "stream",
     "text": [
      "Confusion Matrix:\n",
      "[[95  3]\n",
      " [ 3 99]]\n",
      "\n",
      " Classification Report:\n",
      "              precision    recall  f1-score   support\n",
      "\n",
      "           0       0.97      0.97      0.97        98\n",
      "           1       0.97      0.97      0.97       102\n",
      "\n",
      "    accuracy                           0.97       200\n",
      "   macro avg       0.97      0.97      0.97       200\n",
      "weighted avg       0.97      0.97      0.97       200\n",
      "\n"
     ]
    }
   ],
   "source": [
    "# Use the model to predict the classes of the testing set\n",
    "y_pred = rf.predict(X_test)\n",
    "\n",
    "# Print the confusion matrix and classification report\n",
    "print(\"Confusion Matrix:\")\n",
    "cm=confusion_matrix(y_test, y_pred)\n",
    "print(cm)\n",
    "\n",
    "print(\"\\n Classification Report:\")\n",
    "print(classification_report(y_test, y_pred))\n"
   ]
  },
  {
   "cell_type": "code",
   "execution_count": 81,
   "id": "5a5de6da",
   "metadata": {},
   "outputs": [
    {
     "data": {
      "image/png": "[encoded data removed]",
      "text/plain": [
       "<Figure size 432x432 with 1 Axes>"
      ]
     },
     "metadata": {
      "needs_background": "light"
     },
     "output_type": "display_data"
    }
   ],
   "source": [
    "fig, ax = plot_confusion_matrix(conf_mat=cm , figsize=(6, 6), cmap=plt.cm.Greens)\n",
    "plt.xlabel('Predictions', fontsize=18)\n",
    "plt.ylabel('Actuals', fontsize=18)\n",
    "plt.title('Confusion Matrix', fontsize=18)\n",
    "plt.show()\n",
    "\n"
   ]
  },
  {
   "cell_type": "markdown",
   "id": "9d7c5569",
   "metadata": {},
   "source": [
    "#### Cross-validation "
   ]
  },
  {
   "cell_type": "code",
   "execution_count": 82,
   "id": "41a3a6df",
   "metadata": {},
   "outputs": [
    {
     "name": "stdout",
     "output_type": "stream",
     "text": [
      "Cross-Validation Scores: [0.99  0.96  0.935 0.95  0.96 ]\n",
      "Mean Score: 0.959\n"
     ]
    }
   ],
   "source": [
    "# Calculate cross-validation scores for the model\n",
    "# cross-validation scores for a model : a way of evaluating the performance of the model on a given dataset.\n",
    "scores = cross_val_score(rf, X, y, cv=5)\n",
    "\n",
    "# Print the cross-validation scores\n",
    "print(\"Cross-Validation Scores:\", scores)\n",
    "\n",
    "# Mean score refers to the average score obtained from a set of scores. (moyenne)\n",
    "print(\"Mean Score:\", scores.mean())"
   ]
  },
  {
   "cell_type": "code",
   "execution_count": 83,
   "id": "960d849d",
   "metadata": {},
   "outputs": [
    {
     "data": {
      "text/plain": [
       "RandomForestClassifier(random_state=0)"
      ]
     },
     "execution_count": 83,
     "metadata": {},
     "output_type": "execute_result"
    }
   ],
   "source": [
    "# Fit the classifier to the data\n",
    "rf.fit(X, y)\n"
   ]
  },
  {
   "cell_type": "markdown",
   "id": "4ebbbab2",
   "metadata": {},
   "source": [
    "### Tune Hyperparameters"
   ]
  },
  {
   "cell_type": "code",
   "execution_count": 84,
   "id": "7add3b0d",
   "metadata": {},
   "outputs": [
    {
     "name": "stdout",
     "output_type": "stream",
     "text": [
      "Fitting 5 folds for each of 81 candidates, totalling 405 fits\n",
      "Best Parameters: {'max_depth': 20, 'min_samples_leaf': 1, 'min_samples_split': 2, 'n_estimators': 150}\n",
      "Best Score: 0.95875\n"
     ]
    }
   ],
   "source": [
    "from sklearn.model_selection import GridSearchCV\n",
    "\n",
    "# Define the parameter grid\n",
    "param_grid = {\n",
    "    'n_estimators': [50, 100, 150],\n",
    "    'max_depth': [10, 20, 30],\n",
    "    'min_samples_split': [2, 5, 10],\n",
    "    'min_samples_leaf': [1, 2, 4]\n",
    "}\n",
    "\n",
    "# Initialize the GridSearchCV object\n",
    "grid_search = GridSearchCV(estimator=rf, param_grid=param_grid, cv=5, n_jobs=-1, verbose=2)\n",
    "\n",
    "# Fit GridSearchCV to the data\n",
    "grid_search.fit(X_train, y_train)\n",
    "\n",
    "# Print the best parameters and best score\n",
    "print(\"Best Parameters:\", grid_search.best_params_)\n",
    "print(\"Best Score:\", grid_search.best_score_)\n"
   ]
  },
  {
   "cell_type": "markdown",
   "id": "e70ceb4b",
   "metadata": {},
   "source": [
    "Validate the Model"
   ]
  },
  {
   "cell_type": "code",
   "execution_count": 85,
   "id": "243faa57",
   "metadata": {},
   "outputs": [
    {
     "name": "stdout",
     "output_type": "stream",
     "text": [
      "Cross-Validation Scores: [0.985 0.96  0.94  0.95  0.96 ]\n",
      "Mean Cross-Validation Score: 0.959\n"
     ]
    }
   ],
   "source": [
    "from sklearn.model_selection import cross_val_score\n",
    "\n",
    "# Get the best model from GridSearchCV\n",
    "best_model = grid_search.best_estimator_\n",
    "\n",
    "# Perform cross-validation\n",
    "cv_scores = cross_val_score(best_model, X, y, cv=5)\n",
    "\n",
    "# Print cross-validation scores and mean score\n",
    "print(\"Cross-Validation Scores:\", cv_scores)\n",
    "print(\"Mean Cross-Validation Score:\", cv_scores.mean())\n"
   ]
  },
  {
   "cell_type": "code",
   "execution_count": 86,
   "id": "14124481",
   "metadata": {},
   "outputs": [
    {
     "name": "stdout",
     "output_type": "stream",
     "text": [
      "Test Set Score: 0.97\n"
     ]
    }
   ],
   "source": [
    "# Evaluate the final model on the test set\n",
    "final_model = grid_search.best_estimator_\n",
    "test_score = final_model.score(X_test, y_test)\n",
    "\n",
    "# Print the test score\n",
    "print(\"Test Set Score:\", test_score)\n"
   ]
  },
  {
   "cell_type": "markdown",
   "id": "455c2027",
   "metadata": {},
   "source": [
    "#### Save the model"
   ]
  },
  {
   "cell_type": "code",
   "execution_count": 87,
   "id": "bb957a83",
   "metadata": {},
   "outputs": [],
   "source": [
    "import pickle\n",
    "\n",
    "# Save the model\n",
    "with open('random_forest_model.pkl', 'wb') as file:\n",
    "    pickle.dump(rf, file)\n"
   ]
  }
 ],
 "metadata": {
  "kernelspec": {
   "display_name": "Python 3",
   "language": "python",
   "name": "python3"
  },
  "language_info": {
   "codemirror_mode": {
    "name": "ipython",
    "version": 3
   },
   "file_extension": ".py",
   "mimetype": "text/x-python",
   "name": "python",
   "nbconvert_exporter": "python",
   "pygments_lexer": "ipython3",
   "version": "3.6.7"
  }
 },
 "nbformat": 4,
 "nbformat_minor": 5
}
